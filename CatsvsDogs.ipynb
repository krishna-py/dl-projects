{
  "nbformat": 4,
  "nbformat_minor": 0,
  "metadata": {
    "colab": {
      "name": "CatsvsDogs.ipynb",
      "provenance": [],
      "collapsed_sections": [],
      "authorship_tag": "ABX9TyN0nJ1obXzErfOMCOyenj3t",
      "include_colab_link": true
    },
    "kernelspec": {
      "name": "python3",
      "display_name": "Python 3"
    },
    "language_info": {
      "name": "python"
    }
  },
  "cells": [
    {
      "cell_type": "markdown",
      "metadata": {
        "id": "view-in-github",
        "colab_type": "text"
      },
      "source": [
        "<a href=\"https://colab.research.google.com/github/krishna-py/dl-projects/blob/main/CatsvsDogs.ipynb\" target=\"_parent\"><img src=\"https://colab.research.google.com/assets/colab-badge.svg\" alt=\"Open In Colab\"/></a>"
      ]
    },
    {
      "cell_type": "code",
      "metadata": {
        "id": "H_yy6RVbFQTJ"
      },
      "source": [
        "#!pip install tensorflow_data_validation"
      ],
      "execution_count": 1,
      "outputs": []
    },
    {
      "cell_type": "markdown",
      "metadata": {
        "id": "im-VzkLa6sSm"
      },
      "source": [
        "# Cats vs Dogs. Benchmarking multiple CNN backbone architectures.\n",
        "\n",
        "Using Cats vs Dogs dataset, we want to establish which Model works best Top-1, Top-5 accuracy, F1-score and fastest model for inference, using TFLite."
      ]
    },
    {
      "cell_type": "code",
      "metadata": {
        "id": "LBa5uD-NoIFI"
      },
      "source": [
        "import tensorflow as tf\n",
        "import tensorflow_datasets as tfds\n",
        "\n",
        "import numpy as np\n",
        "import matplotlib.pyplot as plt"
      ],
      "execution_count": 7,
      "outputs": []
    },
    {
      "cell_type": "markdown",
      "metadata": {
        "id": "wCYua_PS6rDS"
      },
      "source": [
        "## Importing and Analyzing the dataset"
      ]
    },
    {
      "cell_type": "code",
      "metadata": {
        "id": "3-9n1xA4oVPx",
        "colab": {
          "base_uri": "https://localhost:8080/"
        },
        "outputId": "e791dbaf-4437-4257-8390-1615d82c2044"
      },
      "source": [
        "(train_ds, test_ds), ds_info = tfds.load(\"cats_vs_dogs\", split=['train[:80%]','train[80%:]'], shuffle_files=True, as_supervised=True, with_info=True,)\n",
        "print(train_ds, test_ds)\n",
        "print(ds_info)"
      ],
      "execution_count": 3,
      "outputs": [
        {
          "output_type": "stream",
          "text": [
            "<_OptionsDataset shapes: ((None, None, 3), ()), types: (tf.uint8, tf.int64)> <_OptionsDataset shapes: ((None, None, 3), ()), types: (tf.uint8, tf.int64)>\n",
            "tfds.core.DatasetInfo(\n",
            "    name='cats_vs_dogs',\n",
            "    version=4.0.0,\n",
            "    description='A large set of images of cats and dogs.There are 1738 corrupted images that are dropped.',\n",
            "    homepage='https://www.microsoft.com/en-us/download/details.aspx?id=54765',\n",
            "    features=FeaturesDict({\n",
            "        'image': Image(shape=(None, None, 3), dtype=tf.uint8),\n",
            "        'image/filename': Text(shape=(), dtype=tf.string),\n",
            "        'label': ClassLabel(shape=(), dtype=tf.int64, num_classes=2),\n",
            "    }),\n",
            "    total_num_examples=23262,\n",
            "    splits={\n",
            "        'train': 23262,\n",
            "    },\n",
            "    supervised_keys=('image', 'label'),\n",
            "    citation=\"\"\"@Inproceedings (Conference){asirra-a-captcha-that-exploits-interest-aligned-manual-image-categorization,\n",
            "    author = {Elson, Jeremy and Douceur, John (JD) and Howell, Jon and Saul, Jared},\n",
            "    title = {Asirra: A CAPTCHA that Exploits Interest-Aligned Manual Image Categorization},\n",
            "    booktitle = {Proceedings of 14th ACM Conference on Computer and Communications Security (CCS)},\n",
            "    year = {2007},\n",
            "    month = {October},\n",
            "    publisher = {Association for Computing Machinery, Inc.},\n",
            "    url = {https://www.microsoft.com/en-us/research/publication/asirra-a-captcha-that-exploits-interest-aligned-manual-image-categorization/},\n",
            "    edition = {Proceedings of 14th ACM Conference on Computer and Communications Security (CCS)},\n",
            "    }\"\"\",\n",
            "    redistribution_info=,\n",
            ")\n",
            "\n"
          ],
          "name": "stdout"
        }
      ]
    },
    {
      "cell_type": "markdown",
      "metadata": {
        "id": "LbzyDuiyF3fO"
      },
      "source": [
        "### Analyzing the class distribution in train and test datasets"
      ]
    },
    {
      "cell_type": "code",
      "metadata": {
        "id": "VksaIVsVGYMZ"
      },
      "source": [
        "# Calculate the class distribution in each dataset\n",
        "train_labels = [label for _, label in train_ds.take(-1)]\n",
        "test_labels = [label for _, label in test_ds.take(-1)]"
      ],
      "execution_count": 4,
      "outputs": []
    },
    {
      "cell_type": "code",
      "metadata": {
        "colab": {
          "base_uri": "https://localhost:8080/"
        },
        "id": "wEOivwbLHB5l",
        "outputId": "6e41dd41-187f-4b2a-acff-0096cdc3e6f8"
      },
      "source": [
        "print(f'Train dataset[{len(train_labels)}]: Cats[{len(train_labels)-np.count_nonzero(train_labels)}] vs Dogs[{np.count_nonzero(train_labels)}]')\n",
        "print(f'Test dataset[{len(test_labels)}]: Cats[{len(test_labels)-np.count_nonzero(test_labels)}] vs Dogs[{np.count_nonzero(test_labels)}]')"
      ],
      "execution_count": 5,
      "outputs": [
        {
          "output_type": "stream",
          "text": [
            "Train dataset[18610]: Cats[9378] vs Dogs[9232]\n",
            "Test dataset[4652]: Cats[2280] vs Dogs[2372]\n"
          ],
          "name": "stdout"
        }
      ]
    },
    {
      "cell_type": "code",
      "metadata": {
        "colab": {
          "base_uri": "https://localhost:8080/",
          "height": 302
        },
        "id": "dxbKN0GcJ3QY",
        "outputId": "9cc8f99a-c256-4bfd-8275-3fe0d87bd1b3"
      },
      "source": [
        "labels = ['cats', 'dogs']\n",
        "ypos = np.arange(len(labels))\n",
        "train_count = [len(train_labels)-np.count_nonzero(train_labels), np.count_nonzero(train_labels)]\n",
        "test_counts = [len(test_labels)-np.count_nonzero(test_labels), np.count_nonzero(test_labels)]\n",
        "plt.figure()\n",
        "plt.suptitle('Histogram of Class Distribution in the Cats vs Dogs dataset')\n",
        "plt.subplot(1,2,1)\n",
        "plt.barh(ypos, train_count)\n",
        "plt.yticks(ypos, labels)\n",
        "plt.xlabel('Frequency (Train Dataset)')\n",
        "plt.subplot(1,2,2)\n",
        "plt.yticks(ypos, labels)\n",
        "plt.barh(ypos, test_counts)\n",
        "plt.xlabel('Frequency (Test Dataset)')\n",
        "plt.tight_layout()\n",
        "plt.show()"
      ],
      "execution_count": 8,
      "outputs": [
        {
          "output_type": "display_data",
          "data": {
            "image/png": "[encoded data removed]",
            "text/plain": [
              "<Figure size 432x288 with 2 Axes>"
            ]
          },
          "metadata": {
            "tags": [],
            "needs_background": "light"
          }
        }
      ]
    },
    {
      "cell_type": "markdown",
      "metadata": {
        "id": "M8fI2agCEa6Z"
      },
      "source": [
        "### Visualizing Train Dataset"
      ]
    },
    {
      "cell_type": "code",
      "metadata": {
        "id": "FQ6GAHnBBxT3"
      },
      "source": [
        "tfds.show_examples(train_ds, ds_info)"
      ],
      "execution_count": null,
      "outputs": []
    },
    {
      "cell_type": "markdown",
      "metadata": {
        "id": "f2qyTHpPEe1w"
      },
      "source": [
        "### Visualizing Test Dataset"
      ]
    },
    {
      "cell_type": "code",
      "metadata": {
        "id": "UxvWkIMpCyYJ"
      },
      "source": [
        "tfds.show_examples(test_ds, ds_info)"
      ],
      "execution_count": null,
      "outputs": []
    },
    {
      "cell_type": "markdown",
      "metadata": {
        "id": "HDHP6PqyLuav"
      },
      "source": [
        "## Demonstrating Image Recognition using the Resnet50 network as baseline.\n",
        "### Preprocess and prepare the datasets"
      ]
    },
    {
      "cell_type": "code",
      "metadata": {
        "id": "MhvP4d0WTOpU"
      },
      "source": [
        "from tensorflow.keras.applications.resnet_v2 import preprocess_input\n",
        "IMG_HEIGHT, IMG_WIDTH = 150, 150"
      ],
      "execution_count": 9,
      "outputs": []
    },
    {
      "cell_type": "code",
      "metadata": {
        "id": "OXwCTxNhEuxj"
      },
      "source": [
        "def resize_img(image, label):\n",
        "  image = tf.image.resize_with_crop_or_pad(image, target_height=IMG_HEIGHT, target_width=IMG_WIDTH)\n",
        "  return image, label"
      ],
      "execution_count": 10,
      "outputs": []
    },
    {
      "cell_type": "code",
      "metadata": {
        "id": "84To84NeRq7d"
      },
      "source": [
        "train_ds = train_ds.map(resize_img, num_parallel_calls=tf.data.experimental.AUTOTUNE)\n",
        "train_ds = train_ds.cache()\n",
        "train_ds = train_ds.shuffle(len(train_labels))\n",
        "train_ds = train_ds.batch(128)\n",
        "train_ds = train_ds.prefetch(tf.data.experimental.AUTOTUNE)"
      ],
      "execution_count": 11,
      "outputs": []
    },
    {
      "cell_type": "code",
      "metadata": {
        "id": "XUK1arQyR-3K"
      },
      "source": [
        "test_ds = test_ds.map(resize_img, num_parallel_calls=tf.data.experimental.AUTOTUNE)\n",
        "test_ds = test_ds.batch(128)\n",
        "test_ds = test_ds.cache()\n",
        "test_ds = test_ds.prefetch(tf.data.experimental.AUTOTUNE)"
      ],
      "execution_count": 12,
      "outputs": []
    },
    {
      "cell_type": "code",
      "metadata": {
        "colab": {
          "base_uri": "https://localhost:8080/"
        },
        "id": "4AafvPC6aWUo",
        "outputId": "ec96af0a-258b-4d39-c992-c1124fc09288"
      },
      "source": [
        "print(train_ds)"
      ],
      "execution_count": 13,
      "outputs": [
        {
          "output_type": "stream",
          "text": [
            "<PrefetchDataset shapes: ((None, 150, 150, 3), (None,)), types: (tf.uint8, tf.int64)>\n"
          ],
          "name": "stdout"
        }
      ]
    },
    {
      "cell_type": "markdown",
      "metadata": {
        "id": "hWF4EI4-VJTs"
      },
      "source": [
        "### Random Data Augmentation"
      ]
    },
    {
      "cell_type": "code",
      "metadata": {
        "id": "6cnEAH2yVIix"
      },
      "source": [
        "data_augmentation = tf.keras.Sequential([\n",
        "                                         tf.keras.layers.experimental.preprocessing.RandomFlip(mode='horizontal'),\n",
        "                                         tf.keras.layers.experimental.preprocessing.RandomRotation(0.1),\n",
        "                                         tf.keras.layers.experimental.preprocessing.RandomZoom((-0.2, 0.2)),\n",
        "])"
      ],
      "execution_count": 14,
      "outputs": []
    },
    {
      "cell_type": "markdown",
      "metadata": {
        "id": "30FpBeNDSL9o"
      },
      "source": [
        "### Import and setup the Resnet50v2 model"
      ]
    },
    {
      "cell_type": "code",
      "metadata": {
        "id": "R3DdTfzNSO1w"
      },
      "source": [
        "base_model = tf.keras.applications.ResNet50V2(include_top=False, input_shape=(IMG_HEIGHT,IMG_WIDTH,3))\n",
        "base_model.trainable = False"
      ],
      "execution_count": 15,
      "outputs": []
    },
    {
      "cell_type": "code",
      "metadata": {
        "colab": {
          "base_uri": "https://localhost:8080/"
        },
        "id": "ebmx5q59SXyz",
        "outputId": "79065345-c41a-4456-ae3a-116370168744"
      },
      "source": [
        "inputs = tf.keras.Input(shape=(IMG_HEIGHT,IMG_WIDTH,3), name='input')\n",
        "x = data_augmentation(inputs)\n",
        "x = tf.keras.layers.Lambda(lambda img: preprocess_input(img))(x)\n",
        "x = base_model(x, training=False)\n",
        "x = tf.keras.layers.GlobalAveragePooling2D()(x)\n",
        "x = tf.keras.layers.Dropout(0.2)(x)\n",
        "outputs = tf.keras.layers.Dense(1, name='output')(x)\n",
        "model = tf.keras.Model(inputs, outputs, name='CatsVsDogs_Resnet50v2_150x150')\n",
        "model.summary()"
      ],
      "execution_count": 19,
      "outputs": [
        {
          "output_type": "stream",
          "text": [
            "Model: \"CatsVsDogs_Resnet50v2_150x150\"\n",
            "_________________________________________________________________\n",
            "Layer (type)                 Output Shape              Param #   \n",
            "=================================================================\n",
            "input (InputLayer)           [(None, 150, 150, 3)]     0         \n",
            "_________________________________________________________________\n",
            "sequential (Sequential)      (None, 150, 150, 3)       0         \n",
            "_________________________________________________________________\n",
            "lambda_1 (Lambda)            (None, 150, 150, 3)       0         \n",
            "_________________________________________________________________\n",
            "resnet50v2 (Functional)      (None, 5, 5, 2048)        23564800  \n",
            "_________________________________________________________________\n",
            "global_average_pooling2d_1 ( (None, 2048)              0         \n",
            "_________________________________________________________________\n",
            "dropout_1 (Dropout)          (None, 2048)              0         \n",
            "_________________________________________________________________\n",
            "output (Dense)               (None, 1)                 2049      \n",
            "=================================================================\n",
            "Total params: 23,566,849\n",
            "Trainable params: 2,049\n",
            "Non-trainable params: 23,564,800\n",
            "_________________________________________________________________\n"
          ],
          "name": "stdout"
        }
      ]
    },
    {
      "cell_type": "markdown",
      "metadata": {
        "id": "3Axvbxy2YtzK"
      },
      "source": [
        "### Train the Top layer"
      ]
    },
    {
      "cell_type": "code",
      "metadata": {
        "id": "wBO2Uzw4YcMA"
      },
      "source": [
        "model.compile(\n",
        "    optimizer = tf.keras.optimizers.Adam(),\n",
        "    loss = tf.keras.losses.BinaryCrossentropy(from_logits=True),\n",
        "    metrics=[tf.keras.metrics.BinaryAccuracy()]\n",
        ")"
      ],
      "execution_count": 26,
      "outputs": []
    },
    {
      "cell_type": "code",
      "metadata": {
        "colab": {
          "base_uri": "https://localhost:8080/"
        },
        "id": "4HyAaRVXZpjA",
        "outputId": "583c410e-2946-4fc8-a597-bb926e86dced"
      },
      "source": [
        "epochs = 20\n",
        "model.fit(train_ds, epochs=epochs, validation_data=test_ds)"
      ],
      "execution_count": null,
      "outputs": [
        {
          "output_type": "stream",
          "text": [
            "Epoch 1/20\n",
            " 31/146 [=====>........................] - ETA: 16:11 - loss: 0.3401 - binary_accuracy: 0.8405"
          ],
          "name": "stdout"
        }
      ]
    },
    {
      "cell_type": "markdown",
      "metadata": {
        "id": "2JlaD1SQbwEX"
      },
      "source": [
        "### Finetune the Resnet model another 10 epochs\n"
      ]
    },
    {
      "cell_type": "code",
      "metadata": {
        "id": "N8Sikz6gZ4k1"
      },
      "source": [
        "base_model.trainable = True\n",
        "model.summary()\n",
        "\n",
        "model.compile(\n",
        "    optimizer=keras.optimizers.Adam(1e-5),  # Low learning rate\n",
        "    loss=keras.losses.BinaryCrossentropy(from_logits=True),\n",
        "    metrics=[keras.metrics.BinaryAccuracy()],\n",
        ")\n",
        "\n",
        "epochs = 10\n",
        "model.fit(train_ds, epochs=epochs, validation_data=validation_ds)"
      ],
      "execution_count": null,
      "outputs": []
    }
  ]
}